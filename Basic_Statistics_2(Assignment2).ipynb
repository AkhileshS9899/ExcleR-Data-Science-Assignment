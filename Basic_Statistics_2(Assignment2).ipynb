{
 "cells": [
  {
   "cell_type": "code",
   "execution_count": 1,
   "id": "c531e1d9",
   "metadata": {},
   "outputs": [],
   "source": [
    "import numpy as np \n",
    "from scipy import stats"
   ]
  },
  {
   "cell_type": "code",
   "execution_count": 2,
   "id": "9f895610",
   "metadata": {},
   "outputs": [],
   "source": [
    "data=np.array([1.13, 1.55, 1.43, 0.92, 1.25, 1.36, 1.32, 0.85, 1.07, 1.48, 1.20, 1.33, 1.18, 1.22, 1.29]) #given data \n",
    "sample_mean=np.mean(data)\n",
    "sample_std=np.std(data)\n",
    "sample_size=len(data)"
   ]
  },
  {
   "cell_type": "code",
   "execution_count": 3,
   "id": "f5e6793d",
   "metadata": {},
   "outputs": [
    {
     "name": "stdout",
     "output_type": "stream",
     "text": [
      "1.2386666666666666\n",
      "0.18661427836285438\n",
      "15\n"
     ]
    }
   ],
   "source": [
    "print(sample_mean)\n",
    "print(sample_std)\n",
    "print(sample_size)"
   ]
  },
  {
   "cell_type": "markdown",
   "id": "1e98bf29",
   "metadata": {},
   "source": [
    "A. Confidence interval using sample standard deviation."
   ]
  },
  {
   "cell_type": "markdown",
   "id": "cc3b2885",
   "metadata": {},
   "source": [
    "\n",
    "METHOD1: Using direct syntax for knowing the confidence intervals.\n",
    "\n",
    "syntax: stats.t.interval( confidence_level , Degree of freedom , sample_mean , s/ root of n)"
   ]
  },
  {
   "cell_type": "code",
   "execution_count": 4,
   "id": "a39b9b48",
   "metadata": {},
   "outputs": [
    {
     "data": {
      "text/plain": [
       "(1.095231668626123, 1.3821016647072102)"
      ]
     },
     "execution_count": 4,
     "metadata": {},
     "output_type": "execute_result"
    }
   ],
   "source": [
    "#using t-distribution\n",
    "confidence_level=0.99 #given confidence level is 99%\n",
    "dof=sample_size-1 #degrees of freedom \n",
    "ss=sample_std/np.sqrt(sample_size)\n",
    "stats.t.interval(confidence_level,dof,sample_mean,ss)"
   ]
  },
  {
   "cell_type": "markdown",
   "id": "b043f081",
   "metadata": {},
   "source": [
    "METHOD2: Using formulas for knowing the confidence intervals.\n",
    "\n",
    "Formula: Confidence Interval[min,max]=(sample mean - margin error,sample mean + margin error)"
   ]
  },
  {
   "cell_type": "code",
   "execution_count": 5,
   "id": "6df81355",
   "metadata": {},
   "outputs": [],
   "source": [
    "confidence_level=0.99\n",
    "alpha=1-confidence_level\n",
    "t_value=stats.t.ppf(1 - alpha/2, df=sample_size - 1)\n",
    "margin_error=t_value*ss\n",
    "confidence_interval=(sample_mean-margin_error,sample_mean+margin_error)"
   ]
  },
  {
   "cell_type": "code",
   "execution_count": 6,
   "id": "8238498d",
   "metadata": {},
   "outputs": [
    {
     "name": "stdout",
     "output_type": "stream",
     "text": [
      "confidence interval using sample standard deviation is (1.095231668626123, 1.3821016647072102)\n"
     ]
    }
   ],
   "source": [
    "print(\"confidence interval using sample standard deviation is\", confidence_interval)"
   ]
  },
  {
   "cell_type": "markdown",
   "id": "eb180bf2",
   "metadata": {},
   "source": [
    "**B. Confidence interval using known population standard deviation.** "
   ]
  },
  {
   "cell_type": "markdown",
   "id": "f26fc3b9",
   "metadata": {},
   "source": [
    "METHOD1:"
   ]
  },
  {
   "cell_type": "code",
   "execution_count": 7,
   "id": "47e8de01",
   "metadata": {},
   "outputs": [
    {
     "data": {
      "text/plain": [
       "(1.0849431688733762, 1.392390164459957)"
      ]
     },
     "execution_count": 7,
     "metadata": {},
     "output_type": "execute_result"
    }
   ],
   "source": [
    "# Using t-distribution \n",
    "population_std=0.2 #known population standard deviation\n",
    "ps=population_std/np.sqrt(sample_size)\n",
    "stats.t.interval(confidence_level,dof,sample_mean,ps)"
   ]
  },
  {
   "cell_type": "markdown",
   "id": "10e9471d",
   "metadata": {},
   "source": [
    "METHOD2:"
   ]
  },
  {
   "cell_type": "code",
   "execution_count": 8,
   "id": "fa2e4ed2",
   "metadata": {},
   "outputs": [],
   "source": [
    "population_std=0.2\n",
    "ps=population_std/np.sqrt(sample_size)\n",
    "T_value=stats.t.ppf(1 - alpha/2, df=sample_size - 1)\n",
    "margin_error_b = T_value*ps\n",
    "confidence_level_b=(sample_mean-margin_error_b, sample_mean + margin_error_b)"
   ]
  },
  {
   "cell_type": "code",
   "execution_count": 9,
   "id": "dcd00792",
   "metadata": {},
   "outputs": [
    {
     "name": "stdout",
     "output_type": "stream",
     "text": [
      "Confidence interval using population standard deviation (1.0849431688733762, 1.392390164459957)\n"
     ]
    }
   ],
   "source": [
    "print(\"Confidence interval using population standard deviation\", confidence_level_b)"
   ]
  },
  {
   "cell_type": "code",
   "execution_count": null,
   "id": "eddc1363",
   "metadata": {},
   "outputs": [],
   "source": []
  }
 ],
 "metadata": {
  "kernelspec": {
   "display_name": "base",
   "language": "python",
   "name": "python3"
  },
  "language_info": {
   "codemirror_mode": {
    "name": "ipython",
    "version": 3
   },
   "file_extension": ".py",
   "mimetype": "text/x-python",
   "name": "python",
   "nbconvert_exporter": "python",
   "pygments_lexer": "ipython3",
   "version": "3.12.7"
  }
 },
 "nbformat": 4,
 "nbformat_minor": 5
}
