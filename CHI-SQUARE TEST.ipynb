{
 "cells": [
  {
   "cell_type": "markdown",
   "id": "86d36879",
   "metadata": {},
   "source": [
    "\n",
    "Chi-Square test"
   ]
  },
  {
   "cell_type": "code",
   "execution_count": 1,
   "id": "d3374b6f",
   "metadata": {},
   "outputs": [],
   "source": [
    "import pandas as pd \n",
    "import numpy as np\n",
    "from scipy.stats import chi2_contingency"
   ]
  },
  {
   "cell_type": "markdown",
   "id": "de397ca9",
   "metadata": {},
   "source": [
    "TASK1:State the Hypotheses:"
   ]
  },
  {
   "cell_type": "markdown",
   "id": "c4efe583",
   "metadata": {},
   "source": [
    "H0:There is no significant association between the type of smart home device purchased(smart thermostats vs. smart light) and the customer satisfaction level H1:There is significant association between the type of smart home device purchased(smart thermostats vs. smart light) and the customer satisfaction level."
   ]
  },
  {
   "cell_type": "markdown",
   "id": "9c8869f7",
   "metadata": {},
   "source": [
    "TASK2:Compute the Chi-Square Statistic"
   ]
  },
  {
   "cell_type": "code",
   "execution_count": 2,
   "id": "98d9390f",
   "metadata": {},
   "outputs": [
    {
     "data": {
      "text/html": [
       "<div>\n",
       "<style scoped>\n",
       "    .dataframe tbody tr th:only-of-type {\n",
       "        vertical-align: middle;\n",
       "    }\n",
       "\n",
       "    .dataframe tbody tr th {\n",
       "        vertical-align: top;\n",
       "    }\n",
       "\n",
       "    .dataframe thead th {\n",
       "        text-align: right;\n",
       "    }\n",
       "</style>\n",
       "<table border=\"1\" class=\"dataframe\">\n",
       "  <thead>\n",
       "    <tr style=\"text-align: right;\">\n",
       "      <th></th>\n",
       "      <th>Smart Thermostat</th>\n",
       "      <th>Smart Light</th>\n",
       "    </tr>\n",
       "  </thead>\n",
       "  <tbody>\n",
       "    <tr>\n",
       "      <th>Very Statisfied</th>\n",
       "      <td>50</td>\n",
       "      <td>70</td>\n",
       "    </tr>\n",
       "    <tr>\n",
       "      <th>Satisied</th>\n",
       "      <td>80</td>\n",
       "      <td>100</td>\n",
       "    </tr>\n",
       "    <tr>\n",
       "      <th>Neutarl</th>\n",
       "      <td>60</td>\n",
       "      <td>90</td>\n",
       "    </tr>\n",
       "    <tr>\n",
       "      <th>Unsatisfied</th>\n",
       "      <td>30</td>\n",
       "      <td>50</td>\n",
       "    </tr>\n",
       "    <tr>\n",
       "      <th>Very satisfied</th>\n",
       "      <td>20</td>\n",
       "      <td>50</td>\n",
       "    </tr>\n",
       "  </tbody>\n",
       "</table>\n",
       "</div>"
      ],
      "text/plain": [
       "                 Smart Thermostat  Smart Light\n",
       "Very Statisfied                50           70\n",
       "Satisied                       80          100\n",
       "Neutarl                        60           90\n",
       "Unsatisfied                    30           50\n",
       "Very satisfied                 20           50"
      ]
     },
     "execution_count": 2,
     "metadata": {},
     "output_type": "execute_result"
    }
   ],
   "source": [
    "data=np.array([[50,70],\n",
    "             [80,100],\n",
    "             [60,90],\n",
    "             [30,50],\n",
    "             [20,50]])\n",
    "df=pd.DataFrame(data,columns=[\"Smart Thermostat\",\"Smart Light\"],\n",
    "               index=[\"Very Statisfied\",\"Satisied\",\"Neutarl\",\"Unsatisfied\",\"Very satisfied\"])\n",
    "df"
   ]
  },
  {
   "cell_type": "code",
   "execution_count": 3,
   "id": "ad6bf99e",
   "metadata": {},
   "outputs": [],
   "source": [
    "chi2_stats,p_val,dof,expected=chi2_contingency(df)"
   ]
  },
  {
   "cell_type": "code",
   "execution_count": 4,
   "id": "4f531e74",
   "metadata": {},
   "outputs": [
    {
     "name": "stdout",
     "output_type": "stream",
     "text": [
      "chi-square Statistics: 5.638227513227513\n",
      "Degree Of Freedom: 4\n",
      "P-Value 0.22784371130697179\n",
      "Expected Frequency:\n",
      " [[ 48.  72.]\n",
      " [ 72. 108.]\n",
      " [ 60.  90.]\n",
      " [ 32.  48.]\n",
      " [ 28.  42.]]\n"
     ]
    }
   ],
   "source": [
    "print(\"chi-square Statistics:\",chi2_stats)\n",
    "print(\"Degree Of Freedom:\",dof)\n",
    "print(\"P-Value\",p_val)\n",
    "print(\"Expected Frequency:\\n\",expected)"
   ]
  },
  {
   "cell_type": "markdown",
   "id": "bfee88fa",
   "metadata": {},
   "source": [
    "TASK3:Determine the Critical Value"
   ]
  },
  {
   "cell_type": "code",
   "execution_count": 5,
   "id": "d5a70f99",
   "metadata": {},
   "outputs": [
    {
     "name": "stdout",
     "output_type": "stream",
     "text": [
      "Critical Value: 9.487729036781154\n"
     ]
    }
   ],
   "source": [
    "from scipy.stats import chi2\n",
    "alpha=0.05\n",
    "critical_value=chi2.ppf(1-alpha,dof)\n",
    "print(\"Critical Value:\",critical_value)"
   ]
  },
  {
   "cell_type": "markdown",
   "id": "79742b61",
   "metadata": {},
   "source": [
    "TASK4:Make a Decision"
   ]
  },
  {
   "cell_type": "code",
   "execution_count": 6,
   "id": "6c6f9591",
   "metadata": {},
   "outputs": [
    {
     "name": "stdout",
     "output_type": "stream",
     "text": [
      "Accept H0\n",
      "There is no significant association between the type of smart home device purchased(smart thermostats vs. smart light) and the customer satisfaction level\n"
     ]
    }
   ],
   "source": [
    "if chi2_stats<critical_value:\n",
    "    print(\"Accept H0\")\n",
    "    print(\"There is no significant association between the type of smart home device purchased(smart thermostats vs. smart light) and the customer satisfaction level\")\n",
    "else:\n",
    "    print(\"Reject H0\")\n",
    "    print(\"There is significant association between the type of smart home device purchased(smart thermostats vs. smart light) and the customer satisfaction level\")"
   ]
  },
  {
   "cell_type": "code",
   "execution_count": null,
   "id": "7f8ae339",
   "metadata": {},
   "outputs": [],
   "source": []
  }
 ],
 "metadata": {
  "kernelspec": {
   "display_name": "base",
   "language": "python",
   "name": "python3"
  },
  "language_info": {
   "codemirror_mode": {
    "name": "ipython",
    "version": 3
   },
   "file_extension": ".py",
   "mimetype": "text/x-python",
   "name": "python",
   "nbconvert_exporter": "python",
   "pygments_lexer": "ipython3",
   "version": "3.12.7"
  }
 },
 "nbformat": 4,
 "nbformat_minor": 5
}
